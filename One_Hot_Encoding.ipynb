{
  "nbformat": 4,
  "nbformat_minor": 0,
  "metadata": {
    "colab": {
      "private_outputs": true,
      "provenance": []
    },
    "kernelspec": {
      "name": "python3",
      "display_name": "Python 3"
    },
    "language_info": {
      "name": "python"
    }
  },
  "cells": [
    {
      "cell_type": "markdown",
      "source": [
        "**ONE HOT ENCODING**"
      ],
      "metadata": {
        "id": "16drCiehjOqJ"
      }
    },
    {
      "cell_type": "markdown",
      "source": [
        "One-hot encoding is a method used to represent categorical data, where each category is represented by a binary variable. The binary variable takes the value 1 if the category is present and 0 otherwise. The binary variables are also known as dummy variables."
      ],
      "metadata": {
        "id": "hfw_7PuRjXZK"
      }
    },
    {
      "cell_type": "code",
      "execution_count": null,
      "metadata": {
        "id": "eOAciq3MexRf"
      },
      "outputs": [],
      "source": [
        "# importing the required libraries\n",
        "import numpy as np\n",
        "import pandas as pd\n",
        "from sklearn.preprocessing import OneHotEncoder"
      ]
    },
    {
      "cell_type": "code",
      "source": [
        "# load the dataset\n",
        "df=pd.read_csv(\"/content/data-one-hot-encoder.csv\")\n",
        "df.head()"
      ],
      "metadata": {
        "id": "wlFlJdlie0CN"
      },
      "execution_count": null,
      "outputs": []
    },
    {
      "cell_type": "code",
      "source": [
        "df.tail()"
      ],
      "metadata": {
        "id": "WizyTU-Bf7Ez"
      },
      "execution_count": null,
      "outputs": []
    },
    {
      "cell_type": "code",
      "source": [
        "df.dtypes"
      ],
      "metadata": {
        "id": "H1iC7z2SgaTp"
      },
      "execution_count": null,
      "outputs": []
    },
    {
      "cell_type": "code",
      "source": [
        "df[\"Colour\"].unique()"
      ],
      "metadata": {
        "id": "qwyhT9wjgdme"
      },
      "execution_count": null,
      "outputs": []
    },
    {
      "cell_type": "code",
      "source": [
        "df[\"Country\"].unique()"
      ],
      "metadata": {
        "id": "tqqU7SuygmQR"
      },
      "execution_count": null,
      "outputs": []
    },
    {
      "cell_type": "code",
      "source": [
        "ohe= OneHotEncoder()"
      ],
      "metadata": {
        "id": "GazfXZhDgwpv"
      },
      "execution_count": null,
      "outputs": []
    },
    {
      "cell_type": "code",
      "source": [
        "ohe"
      ],
      "metadata": {
        "id": "GeSFT0awg76n"
      },
      "execution_count": null,
      "outputs": []
    },
    {
      "cell_type": "code",
      "source": [
        "feature_array = ohe.fit_transform(df[[\"Colour\",\"Country\"]]).toarray()"
      ],
      "metadata": {
        "id": "iTIOnphkg9EH"
      },
      "execution_count": null,
      "outputs": []
    },
    {
      "cell_type": "code",
      "source": [
        "feature_array"
      ],
      "metadata": {
        "id": "iN8M6HawhIs-"
      },
      "execution_count": null,
      "outputs": []
    },
    {
      "cell_type": "code",
      "source": [
        "ohe.categories_"
      ],
      "metadata": {
        "id": "Zi7XpAFShRQp"
      },
      "execution_count": null,
      "outputs": []
    },
    {
      "cell_type": "code",
      "source": [
        "feature_labels = ohe.categories_"
      ],
      "metadata": {
        "id": "e3x1H7pzhTPg"
      },
      "execution_count": null,
      "outputs": []
    },
    {
      "cell_type": "code",
      "source": [
        "np.array(feature_labels).ravel()"
      ],
      "metadata": {
        "id": "WNrGSPPthcDv"
      },
      "execution_count": null,
      "outputs": []
    },
    {
      "cell_type": "code",
      "source": [
        "feature_labels=np.array(feature_labels).ravel()"
      ],
      "metadata": {
        "id": "DF-qXha7hnjG"
      },
      "execution_count": null,
      "outputs": []
    },
    {
      "cell_type": "code",
      "source": [
        "feature_labels"
      ],
      "metadata": {
        "id": "b4BtjtXkhwHC"
      },
      "execution_count": null,
      "outputs": []
    },
    {
      "cell_type": "code",
      "source": [
        "pd.DataFrame(feature_array,columns=feature_labels)"
      ],
      "metadata": {
        "id": "B5GNULsJhxvS"
      },
      "execution_count": null,
      "outputs": []
    },
    {
      "cell_type": "code",
      "source": [
        "features = pd.DataFrame(feature_array,columns=feature_labels)"
      ],
      "metadata": {
        "id": "gzQo7vW8iAbV"
      },
      "execution_count": null,
      "outputs": []
    },
    {
      "cell_type": "code",
      "source": [
        "features.head()"
      ],
      "metadata": {
        "id": "VieYYqwfiO_O"
      },
      "execution_count": null,
      "outputs": []
    },
    {
      "cell_type": "code",
      "source": [
        "pd.concat([df,features],axis=1)"
      ],
      "metadata": {
        "id": "855JSVHyiROP"
      },
      "execution_count": null,
      "outputs": []
    },
    {
      "cell_type": "code",
      "source": [
        "df_new= pd.concat([df,features],axis=1)"
      ],
      "metadata": {
        "id": "Xy_G-Y3Diek2"
      },
      "execution_count": null,
      "outputs": []
    },
    {
      "cell_type": "code",
      "source": [
        "df_new.head()"
      ],
      "metadata": {
        "id": "n0N3oTOlilGh"
      },
      "execution_count": null,
      "outputs": []
    },
    {
      "cell_type": "code",
      "source": [],
      "metadata": {
        "id": "dunAjsbuim4e"
      },
      "execution_count": null,
      "outputs": []
    }
  ]
}